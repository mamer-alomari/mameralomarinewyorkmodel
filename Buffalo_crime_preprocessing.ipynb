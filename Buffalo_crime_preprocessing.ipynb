{
 "cells": [
  {
   "cell_type": "code",
   "execution_count": 54,
   "metadata": {},
   "outputs": [],
   "source": [
    "import numpy as np \n",
    "import pandas as pd \n",
    "import matplotlib.pyplot as plt \n",
    "import seaborn as sns \n",
    "from sklearn.model_selection import train_test_split\n",
    "from sklearn.linear_model import LinearRegression\n",
    "from sklearn.metrics import mean_squared_error"
   ]
  },
  {
   "cell_type": "markdown",
   "metadata": {},
   "source": [
    "# preprocessing "
   ]
  },
  {
   "cell_type": "markdown",
   "metadata": {},
   "source": [
    "I concluded from the eda that both the unemploment data 'independent variables' and the crime total ' dependent variable' both poses an element of seasonality. \n",
    "the seasonality dictate plenty in terms of prediction especially for the modeling part.linear regression wouldn't be a great model due to the seasonality issue. Hence, my advisor recomended that we use ARIMA model to ecorporate the seasonality within our prediction. Therefore, my preprocessing will only be data normalization then running a linear regression to extract feature importance since the our dataframe doesn't have plenty of significant features to run through "
   ]
  },
  {
   "cell_type": "code",
   "execution_count": 5,
   "metadata": {},
   "outputs": [
    {
     "data": {
      "text/html": [
       "<div>\n",
       "<style scoped>\n",
       "    .dataframe tbody tr th:only-of-type {\n",
       "        vertical-align: middle;\n",
       "    }\n",
       "\n",
       "    .dataframe tbody tr th {\n",
       "        vertical-align: top;\n",
       "    }\n",
       "\n",
       "    .dataframe thead th {\n",
       "        text-align: right;\n",
       "    }\n",
       "</style>\n",
       "<table border=\"1\" class=\"dataframe\">\n",
       "  <thead>\n",
       "    <tr style=\"text-align: right;\">\n",
       "      <th></th>\n",
       "      <th>date</th>\n",
       "      <th>sexual</th>\n",
       "      <th>violent</th>\n",
       "      <th>property</th>\n",
       "      <th>Labor Force</th>\n",
       "      <th>Employed</th>\n",
       "      <th>Unemployed</th>\n",
       "      <th>UR</th>\n",
       "      <th>ctotal</th>\n",
       "      <th>lockdown</th>\n",
       "      <th>e_stimulus</th>\n",
       "      <th>crime_rate</th>\n",
       "      <th>UR-2</th>\n",
       "      <th>unemployment_extension</th>\n",
       "    </tr>\n",
       "  </thead>\n",
       "  <tbody>\n",
       "    <tr>\n",
       "      <th>0</th>\n",
       "      <td>2006-01-01</td>\n",
       "      <td>45</td>\n",
       "      <td>466</td>\n",
       "      <td>972</td>\n",
       "      <td>121900</td>\n",
       "      <td>113900</td>\n",
       "      <td>8000</td>\n",
       "      <td>6.5</td>\n",
       "      <td>1483</td>\n",
       "      <td>0</td>\n",
       "      <td>0</td>\n",
       "      <td>6.082855</td>\n",
       "      <td>6.4</td>\n",
       "      <td>0</td>\n",
       "    </tr>\n",
       "    <tr>\n",
       "      <th>1</th>\n",
       "      <td>2006-02-01</td>\n",
       "      <td>18</td>\n",
       "      <td>301</td>\n",
       "      <td>532</td>\n",
       "      <td>122100</td>\n",
       "      <td>113800</td>\n",
       "      <td>8300</td>\n",
       "      <td>6.8</td>\n",
       "      <td>851</td>\n",
       "      <td>0</td>\n",
       "      <td>0</td>\n",
       "      <td>3.484848</td>\n",
       "      <td>6.3</td>\n",
       "      <td>0</td>\n",
       "    </tr>\n",
       "    <tr>\n",
       "      <th>2</th>\n",
       "      <td>2006-03-01</td>\n",
       "      <td>6</td>\n",
       "      <td>114</td>\n",
       "      <td>215</td>\n",
       "      <td>121900</td>\n",
       "      <td>114100</td>\n",
       "      <td>7800</td>\n",
       "      <td>6.4</td>\n",
       "      <td>335</td>\n",
       "      <td>0</td>\n",
       "      <td>0</td>\n",
       "      <td>1.374077</td>\n",
       "      <td>6.2</td>\n",
       "      <td>0</td>\n",
       "    </tr>\n",
       "    <tr>\n",
       "      <th>3</th>\n",
       "      <td>2006-04-01</td>\n",
       "      <td>18</td>\n",
       "      <td>347</td>\n",
       "      <td>688</td>\n",
       "      <td>122300</td>\n",
       "      <td>114600</td>\n",
       "      <td>7700</td>\n",
       "      <td>6.3</td>\n",
       "      <td>1053</td>\n",
       "      <td>0</td>\n",
       "      <td>0</td>\n",
       "      <td>4.304988</td>\n",
       "      <td>6.2</td>\n",
       "      <td>0</td>\n",
       "    </tr>\n",
       "    <tr>\n",
       "      <th>4</th>\n",
       "      <td>2006-05-01</td>\n",
       "      <td>43</td>\n",
       "      <td>712</td>\n",
       "      <td>1315</td>\n",
       "      <td>122900</td>\n",
       "      <td>115200</td>\n",
       "      <td>7600</td>\n",
       "      <td>6.2</td>\n",
       "      <td>2070</td>\n",
       "      <td>0</td>\n",
       "      <td>0</td>\n",
       "      <td>8.421481</td>\n",
       "      <td>6.7</td>\n",
       "      <td>0</td>\n",
       "    </tr>\n",
       "  </tbody>\n",
       "</table>\n",
       "</div>"
      ],
      "text/plain": [
       "         date  sexual  violent  property  Labor Force  Employed  Unemployed  \\\n",
       "0  2006-01-01      45      466       972       121900    113900        8000   \n",
       "1  2006-02-01      18      301       532       122100    113800        8300   \n",
       "2  2006-03-01       6      114       215       121900    114100        7800   \n",
       "3  2006-04-01      18      347       688       122300    114600        7700   \n",
       "4  2006-05-01      43      712      1315       122900    115200        7600   \n",
       "\n",
       "    UR  ctotal  lockdown  e_stimulus  crime_rate  UR-2  unemployment_extension  \n",
       "0  6.5    1483         0           0    6.082855   6.4                       0  \n",
       "1  6.8     851         0           0    3.484848   6.3                       0  \n",
       "2  6.4     335         0           0    1.374077   6.2                       0  \n",
       "3  6.3    1053         0           0    4.304988   6.2                       0  \n",
       "4  6.2    2070         0           0    8.421481   6.7                       0  "
      ]
     },
     "execution_count": 5,
     "metadata": {},
     "output_type": "execute_result"
    }
   ],
   "source": [
    "df=pd.read_csv('preprocessing_ready.csv')\n",
    "df.head()"
   ]
  },
  {
   "cell_type": "markdown",
   "metadata": {},
   "source": [
    "# eliminating redundant features "
   ]
  },
  {
   "cell_type": "markdown",
   "metadata": {},
   "source": [
    "Crime Rate , UR2 are features that I have created to compare the data, they are just another representation of the data 'useless' "
   ]
  },
  {
   "cell_type": "code",
   "execution_count": 7,
   "metadata": {},
   "outputs": [],
   "source": [
    "df.drop(['UR-2','crime_rate'],axis=1,inplace=True )"
   ]
  },
  {
   "cell_type": "markdown",
   "metadata": {},
   "source": [
    "sexual , violent , property are types of crimes that are summed up in the Ctotal column. they were first extracted in that form for EDA purposes. since the current model is only seeking to predict total of crimes, these feature are not necessary, although could be useful to produce predictions for them if the crime model is looking to provide location services "
   ]
  },
  {
   "cell_type": "code",
   "execution_count": 10,
   "metadata": {},
   "outputs": [],
   "source": [
    "df.drop(['sexual','violent','property'],axis=1,inplace=True)"
   ]
  },
  {
   "cell_type": "markdown",
   "metadata": {},
   "source": [
    "# feature importance "
   ]
  },
  {
   "cell_type": "markdown",
   "metadata": {},
   "source": [
    "to explore feature importance we will implement two different methods : \\\n",
    "    The first is correlation test\\\n",
    "    The second is linear regression coefficient test "
   ]
  },
  {
   "cell_type": "code",
   "execution_count": 13,
   "metadata": {},
   "outputs": [],
   "source": [
    "df.set_index('date',inplace=True)"
   ]
  },
  {
   "cell_type": "code",
   "execution_count": 15,
   "metadata": {},
   "outputs": [
    {
     "data": {
      "text/html": [
       "<div>\n",
       "<style scoped>\n",
       "    .dataframe tbody tr th:only-of-type {\n",
       "        vertical-align: middle;\n",
       "    }\n",
       "\n",
       "    .dataframe tbody tr th {\n",
       "        vertical-align: top;\n",
       "    }\n",
       "\n",
       "    .dataframe thead th {\n",
       "        text-align: right;\n",
       "    }\n",
       "</style>\n",
       "<table border=\"1\" class=\"dataframe\">\n",
       "  <thead>\n",
       "    <tr style=\"text-align: right;\">\n",
       "      <th></th>\n",
       "      <th>Labor Force</th>\n",
       "      <th>Employed</th>\n",
       "      <th>Unemployed</th>\n",
       "      <th>UR</th>\n",
       "      <th>ctotal</th>\n",
       "      <th>lockdown</th>\n",
       "      <th>e_stimulus</th>\n",
       "      <th>unemployment_extension</th>\n",
       "    </tr>\n",
       "  </thead>\n",
       "  <tbody>\n",
       "    <tr>\n",
       "      <th>Labor Force</th>\n",
       "      <td>1.000000</td>\n",
       "      <td>0.817084</td>\n",
       "      <td>0.290646</td>\n",
       "      <td>0.172748</td>\n",
       "      <td>0.632129</td>\n",
       "      <td>-0.181263</td>\n",
       "      <td>-0.056737</td>\n",
       "      <td>-0.181263</td>\n",
       "    </tr>\n",
       "    <tr>\n",
       "      <th>Employed</th>\n",
       "      <td>0.817084</td>\n",
       "      <td>1.000000</td>\n",
       "      <td>-0.314076</td>\n",
       "      <td>-0.426111</td>\n",
       "      <td>0.595829</td>\n",
       "      <td>-0.477087</td>\n",
       "      <td>-0.187329</td>\n",
       "      <td>-0.477087</td>\n",
       "    </tr>\n",
       "    <tr>\n",
       "      <th>Unemployed</th>\n",
       "      <td>0.290646</td>\n",
       "      <td>-0.314076</td>\n",
       "      <td>1.000000</td>\n",
       "      <td>0.991639</td>\n",
       "      <td>0.052478</td>\n",
       "      <td>0.493134</td>\n",
       "      <td>0.215033</td>\n",
       "      <td>0.493134</td>\n",
       "    </tr>\n",
       "    <tr>\n",
       "      <th>UR</th>\n",
       "      <td>0.172748</td>\n",
       "      <td>-0.426111</td>\n",
       "      <td>0.991639</td>\n",
       "      <td>1.000000</td>\n",
       "      <td>-0.028189</td>\n",
       "      <td>0.541515</td>\n",
       "      <td>0.247132</td>\n",
       "      <td>0.541515</td>\n",
       "    </tr>\n",
       "    <tr>\n",
       "      <th>ctotal</th>\n",
       "      <td>0.632129</td>\n",
       "      <td>0.595829</td>\n",
       "      <td>0.052478</td>\n",
       "      <td>-0.028189</td>\n",
       "      <td>1.000000</td>\n",
       "      <td>-0.335718</td>\n",
       "      <td>0.042920</td>\n",
       "      <td>-0.335718</td>\n",
       "    </tr>\n",
       "    <tr>\n",
       "      <th>lockdown</th>\n",
       "      <td>-0.181263</td>\n",
       "      <td>-0.477087</td>\n",
       "      <td>0.493134</td>\n",
       "      <td>0.541515</td>\n",
       "      <td>-0.335718</td>\n",
       "      <td>1.000000</td>\n",
       "      <td>0.329234</td>\n",
       "      <td>1.000000</td>\n",
       "    </tr>\n",
       "    <tr>\n",
       "      <th>e_stimulus</th>\n",
       "      <td>-0.056737</td>\n",
       "      <td>-0.187329</td>\n",
       "      <td>0.215033</td>\n",
       "      <td>0.247132</td>\n",
       "      <td>0.042920</td>\n",
       "      <td>0.329234</td>\n",
       "      <td>1.000000</td>\n",
       "      <td>0.329234</td>\n",
       "    </tr>\n",
       "    <tr>\n",
       "      <th>unemployment_extension</th>\n",
       "      <td>-0.181263</td>\n",
       "      <td>-0.477087</td>\n",
       "      <td>0.493134</td>\n",
       "      <td>0.541515</td>\n",
       "      <td>-0.335718</td>\n",
       "      <td>1.000000</td>\n",
       "      <td>0.329234</td>\n",
       "      <td>1.000000</td>\n",
       "    </tr>\n",
       "  </tbody>\n",
       "</table>\n",
       "</div>"
      ],
      "text/plain": [
       "                        Labor Force  Employed  Unemployed        UR    ctotal  \\\n",
       "Labor Force                1.000000  0.817084    0.290646  0.172748  0.632129   \n",
       "Employed                   0.817084  1.000000   -0.314076 -0.426111  0.595829   \n",
       "Unemployed                 0.290646 -0.314076    1.000000  0.991639  0.052478   \n",
       "UR                         0.172748 -0.426111    0.991639  1.000000 -0.028189   \n",
       "ctotal                     0.632129  0.595829    0.052478 -0.028189  1.000000   \n",
       "lockdown                  -0.181263 -0.477087    0.493134  0.541515 -0.335718   \n",
       "e_stimulus                -0.056737 -0.187329    0.215033  0.247132  0.042920   \n",
       "unemployment_extension    -0.181263 -0.477087    0.493134  0.541515 -0.335718   \n",
       "\n",
       "                        lockdown  e_stimulus  unemployment_extension  \n",
       "Labor Force            -0.181263   -0.056737               -0.181263  \n",
       "Employed               -0.477087   -0.187329               -0.477087  \n",
       "Unemployed              0.493134    0.215033                0.493134  \n",
       "UR                      0.541515    0.247132                0.541515  \n",
       "ctotal                 -0.335718    0.042920               -0.335718  \n",
       "lockdown                1.000000    0.329234                1.000000  \n",
       "e_stimulus              0.329234    1.000000                0.329234  \n",
       "unemployment_extension  1.000000    0.329234                1.000000  "
      ]
     },
     "execution_count": 15,
     "metadata": {},
     "output_type": "execute_result"
    }
   ],
   "source": [
    "df.corr()"
   ]
  },
  {
   "cell_type": "code",
   "execution_count": 17,
   "metadata": {},
   "outputs": [
    {
     "data": {
      "text/plain": [
       "<AxesSubplot:>"
      ]
     },
     "execution_count": 17,
     "metadata": {},
     "output_type": "execute_result"
    },
    {
     "data": {
      "image/png": "[encoded data removed]",
      "text/plain": [
       "<Figure size 432x288 with 2 Axes>"
      ]
     },
     "metadata": {
      "needs_background": "light"
     },
     "output_type": "display_data"
    }
   ],
   "source": [
    "sns.heatmap(df.corr(),annot=True)"
   ]
  },
  {
   "cell_type": "markdown",
   "metadata": {},
   "source": [
    "largest coorelations with crime total are:\\\n",
    "    1 - Labor force at 0.63\\\n",
    "    2_ Employed at 0.6 \\\n",
    "    3_ Unemployed  0.052\n",
    "    "
   ]
  },
  {
   "cell_type": "code",
   "execution_count": 21,
   "metadata": {},
   "outputs": [
    {
     "data": {
      "text/html": [
       "<div>\n",
       "<style scoped>\n",
       "    .dataframe tbody tr th:only-of-type {\n",
       "        vertical-align: middle;\n",
       "    }\n",
       "\n",
       "    .dataframe tbody tr th {\n",
       "        vertical-align: top;\n",
       "    }\n",
       "\n",
       "    .dataframe thead th {\n",
       "        text-align: right;\n",
       "    }\n",
       "</style>\n",
       "<table border=\"1\" class=\"dataframe\">\n",
       "  <thead>\n",
       "    <tr style=\"text-align: right;\">\n",
       "      <th></th>\n",
       "      <th>Labor Force</th>\n",
       "      <th>Employed</th>\n",
       "      <th>Unemployed</th>\n",
       "      <th>UR</th>\n",
       "      <th>ctotal</th>\n",
       "      <th>lockdown</th>\n",
       "      <th>e_stimulus</th>\n",
       "      <th>unemployment_extension</th>\n",
       "    </tr>\n",
       "    <tr>\n",
       "      <th>date</th>\n",
       "      <th></th>\n",
       "      <th></th>\n",
       "      <th></th>\n",
       "      <th></th>\n",
       "      <th></th>\n",
       "      <th></th>\n",
       "      <th></th>\n",
       "      <th></th>\n",
       "    </tr>\n",
       "  </thead>\n",
       "  <tbody>\n",
       "    <tr>\n",
       "      <th>2006-01-01</th>\n",
       "      <td>121900</td>\n",
       "      <td>113900</td>\n",
       "      <td>8000</td>\n",
       "      <td>6.5</td>\n",
       "      <td>1483</td>\n",
       "      <td>0</td>\n",
       "      <td>0</td>\n",
       "      <td>0</td>\n",
       "    </tr>\n",
       "    <tr>\n",
       "      <th>2006-02-01</th>\n",
       "      <td>122100</td>\n",
       "      <td>113800</td>\n",
       "      <td>8300</td>\n",
       "      <td>6.8</td>\n",
       "      <td>851</td>\n",
       "      <td>0</td>\n",
       "      <td>0</td>\n",
       "      <td>0</td>\n",
       "    </tr>\n",
       "    <tr>\n",
       "      <th>2006-03-01</th>\n",
       "      <td>121900</td>\n",
       "      <td>114100</td>\n",
       "      <td>7800</td>\n",
       "      <td>6.4</td>\n",
       "      <td>335</td>\n",
       "      <td>0</td>\n",
       "      <td>0</td>\n",
       "      <td>0</td>\n",
       "    </tr>\n",
       "    <tr>\n",
       "      <th>2006-04-01</th>\n",
       "      <td>122300</td>\n",
       "      <td>114600</td>\n",
       "      <td>7700</td>\n",
       "      <td>6.3</td>\n",
       "      <td>1053</td>\n",
       "      <td>0</td>\n",
       "      <td>0</td>\n",
       "      <td>0</td>\n",
       "    </tr>\n",
       "    <tr>\n",
       "      <th>2006-05-01</th>\n",
       "      <td>122900</td>\n",
       "      <td>115200</td>\n",
       "      <td>7600</td>\n",
       "      <td>6.2</td>\n",
       "      <td>2070</td>\n",
       "      <td>0</td>\n",
       "      <td>0</td>\n",
       "      <td>0</td>\n",
       "    </tr>\n",
       "  </tbody>\n",
       "</table>\n",
       "</div>"
      ],
      "text/plain": [
       "            Labor Force  Employed  Unemployed   UR  ctotal  lockdown  \\\n",
       "date                                                                   \n",
       "2006-01-01       121900    113900        8000  6.5    1483         0   \n",
       "2006-02-01       122100    113800        8300  6.8     851         0   \n",
       "2006-03-01       121900    114100        7800  6.4     335         0   \n",
       "2006-04-01       122300    114600        7700  6.3    1053         0   \n",
       "2006-05-01       122900    115200        7600  6.2    2070         0   \n",
       "\n",
       "            e_stimulus  unemployment_extension  \n",
       "date                                            \n",
       "2006-01-01           0                       0  \n",
       "2006-02-01           0                       0  \n",
       "2006-03-01           0                       0  \n",
       "2006-04-01           0                       0  \n",
       "2006-05-01           0                       0  "
      ]
     },
     "execution_count": 21,
     "metadata": {},
     "output_type": "execute_result"
    }
   ],
   "source": [
    "df.head()"
   ]
  },
  {
   "cell_type": "code",
   "execution_count": 24,
   "metadata": {},
   "outputs": [],
   "source": [
    "X=df.drop('ctotal',axis=1)\n",
    "y=df['ctotal']\n",
    "X_train,X_test,y_train,y_test=train_test_split(X,y,test_size=0.3,random_state=123)\n"
   ]
  },
  {
   "cell_type": "code",
   "execution_count": 25,
   "metadata": {},
   "outputs": [],
   "source": [
    "model=LinearRegression()\n",
    "model.fit(X_train,y_train)\n",
    "preds=model.predict(X_test)"
   ]
  },
  {
   "cell_type": "code",
   "execution_count": 60,
   "metadata": {},
   "outputs": [
    {
     "data": {
      "text/plain": [
       "157566.6074255985"
      ]
     },
     "execution_count": 60,
     "metadata": {},
     "output_type": "execute_result"
    }
   ],
   "source": [
    "mean_squared_error(y_test,preds)"
   ]
  },
  {
   "cell_type": "markdown",
   "metadata": {},
   "source": [
    "# determining model's important features! "
   ]
  },
  {
   "cell_type": "code",
   "execution_count": 61,
   "metadata": {},
   "outputs": [
    {
     "data": {
      "text/plain": [
       "array([ 2.86858997e-02,  1.55981442e-03,  2.40403397e-01, -2.63870085e+02,\n",
       "       -2.98573804e+02,  3.12046366e+02, -2.98573804e+02])"
      ]
     },
     "execution_count": 61,
     "metadata": {},
     "output_type": "execute_result"
    }
   ],
   "source": [
    "model.coef_"
   ]
  },
  {
   "cell_type": "markdown",
   "metadata": {},
   "source": [
    "it seems that both, the coorelation test the linear regression agree that UR ,LockDown, and Unemployment extension are less useful than the other features.  "
   ]
  },
  {
   "cell_type": "code",
   "execution_count": 64,
   "metadata": {},
   "outputs": [],
   "source": [
    "df.to_csv('Modeling_ready.csv')"
   ]
  },
  {
   "cell_type": "markdown",
   "metadata": {},
   "source": [
    "# finding the lags and setting differencing "
   ]
  },
  {
   "cell_type": "code",
   "execution_count": 67,
   "metadata": {},
   "outputs": [],
   "source": [
    "def adfuller_test(data):\n",
    "    result=adfuller(data)\n",
    "    labels=['ADF test statistic','P-value','#lags used','Number of Observations Used']\n",
    "    for value,label in zip(result,labels):\n",
    "        print (label+':'+str(value))\n",
    "    if result[1]<=0.05 :\n",
    "        print ('strong evidence against null hypothesis (h0),reject Null hypothesis, Data is not stationary')\n",
    "    else :\n",
    "        print ('weak evidence against null hypothesis,time series has a unit root, idicating data is not stationary')\n",
    "    "
   ]
  },
  {
   "cell_type": "code",
   "execution_count": 68,
   "metadata": {},
   "outputs": [
    {
     "name": "stdout",
     "output_type": "stream",
     "text": [
      "ADF test statistic:-0.7332092516561007\n",
      "P-value:0.8379590783774005\n",
      "#lags used:12\n",
      "Number of Observations Used:168\n",
      "weak evidence against null hypothesis,time series has a unit root, idicating data is not stationary\n"
     ]
    }
   ],
   "source": [
    "adfuller_test(df['ctotal'])"
   ]
  },
  {
   "cell_type": "markdown",
   "metadata": {},
   "source": [
    "data is not stationary ! "
   ]
  },
  {
   "cell_type": "markdown",
   "metadata": {},
   "source": [
    "differencing "
   ]
  },
  {
   "cell_type": "code",
   "execution_count": 72,
   "metadata": {},
   "outputs": [],
   "source": [
    "#making the first difference \n",
    "df['ctatl_differicnced1']=df['ctotal']-df['ctotal'].shift(1)"
   ]
  },
  {
   "cell_type": "code",
   "execution_count": 73,
   "metadata": {},
   "outputs": [
    {
     "data": {
      "text/html": [
       "<div>\n",
       "<style scoped>\n",
       "    .dataframe tbody tr th:only-of-type {\n",
       "        vertical-align: middle;\n",
       "    }\n",
       "\n",
       "    .dataframe tbody tr th {\n",
       "        vertical-align: top;\n",
       "    }\n",
       "\n",
       "    .dataframe thead th {\n",
       "        text-align: right;\n",
       "    }\n",
       "</style>\n",
       "<table border=\"1\" class=\"dataframe\">\n",
       "  <thead>\n",
       "    <tr style=\"text-align: right;\">\n",
       "      <th></th>\n",
       "      <th>Labor Force</th>\n",
       "      <th>Employed</th>\n",
       "      <th>Unemployed</th>\n",
       "      <th>UR</th>\n",
       "      <th>ctotal</th>\n",
       "      <th>lockdown</th>\n",
       "      <th>e_stimulus</th>\n",
       "      <th>unemployment_extension</th>\n",
       "      <th>ctatl_differicnced1</th>\n",
       "    </tr>\n",
       "    <tr>\n",
       "      <th>date</th>\n",
       "      <th></th>\n",
       "      <th></th>\n",
       "      <th></th>\n",
       "      <th></th>\n",
       "      <th></th>\n",
       "      <th></th>\n",
       "      <th></th>\n",
       "      <th></th>\n",
       "      <th></th>\n",
       "    </tr>\n",
       "  </thead>\n",
       "  <tbody>\n",
       "    <tr>\n",
       "      <th>2006-01-01</th>\n",
       "      <td>121900</td>\n",
       "      <td>113900</td>\n",
       "      <td>8000</td>\n",
       "      <td>6.5</td>\n",
       "      <td>1483</td>\n",
       "      <td>0</td>\n",
       "      <td>0</td>\n",
       "      <td>0</td>\n",
       "      <td>NaN</td>\n",
       "    </tr>\n",
       "    <tr>\n",
       "      <th>2006-02-01</th>\n",
       "      <td>122100</td>\n",
       "      <td>113800</td>\n",
       "      <td>8300</td>\n",
       "      <td>6.8</td>\n",
       "      <td>851</td>\n",
       "      <td>0</td>\n",
       "      <td>0</td>\n",
       "      <td>0</td>\n",
       "      <td>-632.0</td>\n",
       "    </tr>\n",
       "    <tr>\n",
       "      <th>2006-03-01</th>\n",
       "      <td>121900</td>\n",
       "      <td>114100</td>\n",
       "      <td>7800</td>\n",
       "      <td>6.4</td>\n",
       "      <td>335</td>\n",
       "      <td>0</td>\n",
       "      <td>0</td>\n",
       "      <td>0</td>\n",
       "      <td>-516.0</td>\n",
       "    </tr>\n",
       "    <tr>\n",
       "      <th>2006-04-01</th>\n",
       "      <td>122300</td>\n",
       "      <td>114600</td>\n",
       "      <td>7700</td>\n",
       "      <td>6.3</td>\n",
       "      <td>1053</td>\n",
       "      <td>0</td>\n",
       "      <td>0</td>\n",
       "      <td>0</td>\n",
       "      <td>718.0</td>\n",
       "    </tr>\n",
       "    <tr>\n",
       "      <th>2006-05-01</th>\n",
       "      <td>122900</td>\n",
       "      <td>115200</td>\n",
       "      <td>7600</td>\n",
       "      <td>6.2</td>\n",
       "      <td>2070</td>\n",
       "      <td>0</td>\n",
       "      <td>0</td>\n",
       "      <td>0</td>\n",
       "      <td>1017.0</td>\n",
       "    </tr>\n",
       "  </tbody>\n",
       "</table>\n",
       "</div>"
      ],
      "text/plain": [
       "            Labor Force  Employed  Unemployed   UR  ctotal  lockdown  \\\n",
       "date                                                                   \n",
       "2006-01-01       121900    113900        8000  6.5    1483         0   \n",
       "2006-02-01       122100    113800        8300  6.8     851         0   \n",
       "2006-03-01       121900    114100        7800  6.4     335         0   \n",
       "2006-04-01       122300    114600        7700  6.3    1053         0   \n",
       "2006-05-01       122900    115200        7600  6.2    2070         0   \n",
       "\n",
       "            e_stimulus  unemployment_extension  ctatl_differicnced1  \n",
       "date                                                                 \n",
       "2006-01-01           0                       0                  NaN  \n",
       "2006-02-01           0                       0               -632.0  \n",
       "2006-03-01           0                       0               -516.0  \n",
       "2006-04-01           0                       0                718.0  \n",
       "2006-05-01           0                       0               1017.0  "
      ]
     },
     "execution_count": 73,
     "metadata": {},
     "output_type": "execute_result"
    }
   ],
   "source": [
    "df.head()"
   ]
  },
  {
   "cell_type": "code",
   "execution_count": 76,
   "metadata": {},
   "outputs": [
    {
     "data": {
      "text/plain": [
       "(array([-25.,   0.,  25.,  50.,  75., 100., 125., 150., 175., 200.]),\n",
       " [Text(-25.0, 0, '2019-01-01'),\n",
       "  Text(0.0, 0, '2006-01-01'),\n",
       "  Text(25.0, 0, '2008-02-01'),\n",
       "  Text(50.0, 0, '2010-03-01'),\n",
       "  Text(75.0, 0, '2012-04-01'),\n",
       "  Text(100.0, 0, '2014-05-01'),\n",
       "  Text(125.0, 0, '2016-06-01'),\n",
       "  Text(150.0, 0, '2018-07-01'),\n",
       "  Text(175.0, 0, '2020-08-01'),\n",
       "  Text(200.0, 0, '')])"
      ]
     },
     "execution_count": 76,
     "metadata": {},
     "output_type": "execute_result"
    },
    {
     "data": {
      "image/png": "[encoded data removed]",
      "text/plain": [
       "<Figure size 432x288 with 1 Axes>"
      ]
     },
     "metadata": {
      "needs_background": "light"
     },
     "output_type": "display_data"
    }
   ],
   "source": [
    "df['ctotal'].plot()\n",
    "plt.xticks(rotation=30)"
   ]
  },
  {
   "cell_type": "code",
   "execution_count": 77,
   "metadata": {},
   "outputs": [
    {
     "data": {
      "text/plain": [
       "(array([-25.,   0.,  25.,  50.,  75., 100., 125., 150., 175., 200.]),\n",
       " [Text(-25.0, 0, '2019-01-01'),\n",
       "  Text(0.0, 0, '2006-01-01'),\n",
       "  Text(25.0, 0, '2008-02-01'),\n",
       "  Text(50.0, 0, '2010-03-01'),\n",
       "  Text(75.0, 0, '2012-04-01'),\n",
       "  Text(100.0, 0, '2014-05-01'),\n",
       "  Text(125.0, 0, '2016-06-01'),\n",
       "  Text(150.0, 0, '2018-07-01'),\n",
       "  Text(175.0, 0, '2020-08-01'),\n",
       "  Text(200.0, 0, '')])"
      ]
     },
     "execution_count": 77,
     "metadata": {},
     "output_type": "execute_result"
    },
    {
     "data": {
      "image/png": "[encoded data removed]",
      "text/plain": [
       "<Figure size 432x288 with 1 Axes>"
      ]
     },
     "metadata": {
      "needs_background": "light"
     },
     "output_type": "display_data"
    }
   ],
   "source": [
    "df['ctatl_differicnced1'].plot()\n",
    "plt.xticks(rotation=30)"
   ]
  },
  {
   "cell_type": "code",
   "execution_count": 84,
   "metadata": {},
   "outputs": [
    {
     "data": {
      "text/plain": [
       "date\n",
       "2006-02-01    -632\n",
       "2006-03-01    -516\n",
       "2006-04-01     718\n",
       "2006-05-01    1017\n",
       "2006-06-01    -174\n",
       "              ... \n",
       "2020-09-01     -35\n",
       "2020-10-01      62\n",
       "2020-11-01     -57\n",
       "2020-12-01     -80\n",
       "2021-01-01    -877\n",
       "Name: ctatl_differicnced1, Length: 180, dtype: int32"
      ]
     },
     "execution_count": 84,
     "metadata": {},
     "output_type": "execute_result"
    }
   ],
   "source": [
    "df.ctatl_differicnced1.dropna().astype(int)"
   ]
  },
  {
   "cell_type": "markdown",
   "metadata": {},
   "source": [
    "# lags "
   ]
  },
  {
   "cell_type": "code",
   "execution_count": 90,
   "metadata": {},
   "outputs": [
    {
     "data": {
      "image/png": "[encoded data removed]",
      "text/plain": [
       "<Figure size 432x288 with 1 Axes>"
      ]
     },
     "metadata": {
      "needs_background": "light"
     },
     "output_type": "display_data"
    }
   ],
   "source": [
    "from statsmodels.graphics.tsaplots import plot_acf\n",
    "\n",
    "plot_acf(df.ctotal, alpha=1, lags=12)\n",
    "plt.show()"
   ]
  },
  {
   "cell_type": "code",
   "execution_count": 114,
   "metadata": {},
   "outputs": [
    {
     "data": {
      "image/png": "[encoded data removed]",
      "text/plain": [
       "<Figure size 432x288 with 1 Axes>"
      ]
     },
     "execution_count": 114,
     "metadata": {},
     "output_type": "execute_result"
    },
    {
     "data": {
      "image/png": "[encoded data removed]",
      "text/plain": [
       "<Figure size 432x288 with 1 Axes>"
      ]
     },
     "metadata": {
      "needs_background": "light"
     },
     "output_type": "display_data"
    }
   ],
   "source": [
    "from statsmodels.graphics.tsaplots import plot_pacf\n",
    "plot_acf(df.ctotal,alpha=1,lags=12)\n"
   ]
  },
  {
   "cell_type": "code",
   "execution_count": 113,
   "metadata": {},
   "outputs": [
    {
     "data": {
      "image/png": "[encoded data removed]",
      "text/plain": [
       "<Figure size 432x288 with 1 Axes>"
      ]
     },
     "execution_count": 113,
     "metadata": {},
     "output_type": "execute_result"
    },
    {
     "data": {
      "image/png": "[encoded data removed]",
      "text/plain": [
       "<Figure size 432x288 with 1 Axes>"
      ]
     },
     "metadata": {
      "needs_background": "light"
     },
     "output_type": "display_data"
    }
   ],
   "source": [
    "plot_pacf(df.ctatl_differicnced1.dropna(),lags=12,alpha=0.05)"
   ]
  },
  {
   "cell_type": "markdown",
   "metadata": {},
   "source": [
    "p=1\n",
    "d=1\n",
    "1=0,1\n",
    "lags=12"
   ]
  },
  {
   "cell_type": "code",
   "execution_count": null,
   "metadata": {},
   "outputs": [],
   "source": []
  }
 ],
 "metadata": {
  "kernelspec": {
   "display_name": "Python 3",
   "language": "python",
   "name": "python3"
  },
  "language_info": {
   "codemirror_mode": {
    "name": "ipython",
    "version": 3
   },
   "file_extension": ".py",
   "mimetype": "text/x-python",
   "name": "python",
   "nbconvert_exporter": "python",
   "pygments_lexer": "ipython3",
   "version": "3.8.5"
  }
 },
 "nbformat": 4,
 "nbformat_minor": 4
}
